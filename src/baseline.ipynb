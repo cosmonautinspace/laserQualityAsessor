{
 "cells": [
  {
   "cell_type": "markdown",
   "id": "77df484d",
   "metadata": {},
   "source": [
    "# Notebook for non-kernel models"
   ]
  },
  {
   "cell_type": "code",
   "execution_count": 1,
   "id": "35c8a7d0",
   "metadata": {},
   "outputs": [],
   "source": [
    "import numpy as np\n",
    "import matplotlib.pyplot as plt\n",
    "from scipy.io import loadmat\n",
    "from sklearn.linear_model import LogisticRegression, LinearRegression\n",
    "from sklearn.model_selection import train_test_split, cross_val_score\n",
    "from sklearn.metrics import (\n",
    "    classification_report,\n",
    "    make_scorer,\n",
    "    fbeta_score,\n",
    "    accuracy_score,\n",
    ")\n",
    "\n",
    "from scripts.nested_CV import nested_cv, nested_cv_multi"
   ]
  },
  {
   "cell_type": "code",
   "execution_count": 2,
   "id": "c5f61b6c",
   "metadata": {},
   "outputs": [],
   "source": [
    "# configs\n",
    "seed = 42  # for repeatability\n",
    "\n",
    "fbeta_scorer = make_scorer(fbeta_score, beta=2, pos_label=-1)\n",
    "accuracy_scorer = make_scorer(accuracy_score)\n",
    "\n",
    "score_dict = {\"f2\": fbeta_scorer, \"accuracy\": accuracy_scorer}"
   ]
  },
  {
   "cell_type": "markdown",
   "id": "723a07fd",
   "metadata": {},
   "source": [
    "### Data import and preprocessing"
   ]
  },
  {
   "cell_type": "code",
   "execution_count": 3,
   "id": "acb587b7",
   "metadata": {},
   "outputs": [
    {
     "name": "stdout",
     "output_type": "stream",
     "text": [
      "(200, 60) (200,)\n"
     ]
    }
   ],
   "source": [
    "# data\n",
    "file_path = \"../data/laser.mat\"\n",
    "mat = loadmat(file_path)\n",
    "\n",
    "X = mat[\"X\"]\n",
    "y = mat[\"Y\"].reshape(200)\n",
    "\n",
    "print(X.shape, y.shape)"
   ]
  },
  {
   "cell_type": "code",
   "execution_count": 4,
   "id": "ac10ed4c",
   "metadata": {},
   "outputs": [],
   "source": [
    "# normalizing the data and splitting into train/test splits\n",
    "X = (X - X.mean(axis=1, keepdims=True)) / X.std(axis=1, keepdims=True)\n",
    "X_train, X_test, y_train, y_test = train_test_split(\n",
    "    X, y, test_size=0.2, random_state=seed\n",
    ")"
   ]
  },
  {
   "cell_type": "markdown",
   "id": "7b9c5549",
   "metadata": {},
   "source": [
    "## Baseline: Logistic Regression\n",
    "\n",
    "### Description\n",
    "Regression, that uses the sigmoid function as the decision function to classify instances. It uses the logistic loss and we use the L2 penalty here.\n",
    "\n",
    "Sigmoid function:\n",
    "$$\n",
    "f_{\\theta}(x) = \\frac {1}{1+e^{-x}}\n",
    "$$\n",
    "\n",
    "Logistic loss:\n",
    "$$\n",
    "\\mathcal{l}_{\\text log}(f_{\\theta (x_{\\text i}), y_{\\text i}}) = log(1+e^{-y_{i} f_{\\theta}(x_{i})})\n",
    "\n",
    "$$"
   ]
  },
  {
   "cell_type": "markdown",
   "id": "f0d04234",
   "metadata": {},
   "source": [
    "### Tuning\n",
    "We tune for the $f_{\\beta}$ (formula given below) score of the negative class, with $\\beta = 2$ (i.e. recall is twice as important as precision), under the assumption that shipping a medical grade laser is more expensive than re-testing and/or repairing it. Therefore, it's better to identify as many faulty lasers as possible, even if it means re-testing some positive ones. \n",
    "\n",
    "$$\n",
    "f_{\\beta} =\\frac {\\beta^{2} + 1}  {\\beta^{2} \\cdot recall^{-1} + precision^{-1}} = \\frac {1+\\beta^{2} \\cdot precision \\cdot recall} {(\\beta^{2} \\cdot precision) + recall}\n",
    "$$"
   ]
  },
  {
   "cell_type": "markdown",
   "id": "002262b1",
   "metadata": {},
   "source": [
    "#### Nested Cross Validation\n",
    "Here is a visual explanation of nested cross validation: <br>\n",
    "![image](../diagrams/nested.jpg)\n",
    "\n",
    "The `nested_cv` function performs nested cross validation, with (by default) 5 outer and 5 inner loops and is abstracted away at `src/scripts/nested_CV.py`"
   ]
  },
  {
   "cell_type": "code",
   "execution_count": 6,
   "id": "7df520c7",
   "metadata": {},
   "outputs": [
    {
     "name": "stdout",
     "output_type": "stream",
     "text": [
      ">>>>RESULTS<<<<\n",
      "Mean f2 score (of negative class) over 5 by 5 rounds of Nested CV  {'f2': 0.9193507586052723, 'accuracy': 0.9199999999999999}\n",
      "Best parameters  {'C': 0.1}\n"
     ]
    }
   ],
   "source": [
    "param_grid_log = {\"C\": np.logspace(-3, 3, 7)}\n",
    "results = nested_cv_multi(\n",
    "    LogisticRegression(penalty=\"l2\"),\n",
    "    X,\n",
    "    y,\n",
    "    param_grid=param_grid_log,\n",
    "    scoring=score_dict,\n",
    "    random_state=seed,\n",
    ")\n",
    "\n",
    "print(\">>>>RESULTS<<<<\")\n",
    "print(\n",
    "    \"Mean score (of negative class) over 5 by 5 rounds of Nested CV \",\n",
    "    results[\"mean_scores\"],\n",
    ")\n",
    "print(\"Best parameters \", results[\"star_params\"])"
   ]
  },
  {
   "cell_type": "code",
   "execution_count": 7,
   "id": "46bd1092",
   "metadata": {},
   "outputs": [
    {
     "name": "stdout",
     "output_type": "stream",
     "text": [
      "{'outer_scores': [{'f2': 0.8585858585858586, 'accuracy': 0.875}, {'f2': 0.8585858585858586, 'accuracy': 0.875}, {'f2': 0.9900990099009901, 'accuracy': 0.975}, {'f2': 0.9803921568627451, 'accuracy': 0.95}, {'f2': 0.9090909090909091, 'accuracy': 0.925}], 'mean_scores': {'f2': 0.9193507586052723, 'accuracy': 0.9199999999999999}, 'std_scores': {'f2': 0.05695854285956674, 'accuracy': 0.03999999999999999}, 'best_params': [{'C': 1000.0}, {'C': 10.0}, {'C': 0.1}, {'C': 1.0}, {'C': 0.1}], 'star_params': {'C': 0.1}}\n"
     ]
    }
   ],
   "source": [
    "print(results)"
   ]
  },
  {
   "cell_type": "code",
   "execution_count": 20,
   "id": "9f2d5098",
   "metadata": {},
   "outputs": [
    {
     "name": "stdout",
     "output_type": "stream",
     "text": [
      "[-1] [-1]\n"
     ]
    }
   ],
   "source": [
    "clf_log = LogisticRegression(C=0.1)\n",
    "clf_log.fit(np.delete(X, [35, 162], axis=0), np.delete(y, [35, 162], axis=0))\n",
    "\n",
    "odd_laser_faulty = clf_log.predict([X[35]])\n",
    "odd_laser_non_faulty = clf_log.predict([X[162]])\n",
    "print(odd_laser_faulty, odd_laser_non_faulty)"
   ]
  },
  {
   "cell_type": "markdown",
   "id": "e6b8e405",
   "metadata": {},
   "source": [
    "## BUT ..... "
   ]
  },
  {
   "cell_type": "code",
   "execution_count": 22,
   "id": "66b6b517",
   "metadata": {},
   "outputs": [
    {
     "data": {
      "text/plain": [
       "[<matplotlib.lines.Line2D at 0x24906184910>]"
      ]
     },
     "execution_count": 22,
     "metadata": {},
     "output_type": "execute_result"
    },
    {
     "data": {
      "image/png": "[encoded data removed]",
      "text/plain": [
       "<Figure size 640x480 with 1 Axes>"
      ]
     },
     "metadata": {},
     "output_type": "display_data"
    }
   ],
   "source": [
    "plt.plot(clf_log.coef_[0])"
   ]
  }
 ],
 "metadata": {
  "kernelspec": {
   "display_name": "Python 3",
   "language": "python",
   "name": "python3"
  },
  "language_info": {
   "codemirror_mode": {
    "name": "ipython",
    "version": 3
   },
   "file_extension": ".py",
   "mimetype": "text/x-python",
   "name": "python",
   "nbconvert_exporter": "python",
   "pygments_lexer": "ipython3",
   "version": "3.11.1"
  }
 },
 "nbformat": 4,
 "nbformat_minor": 5
}
