{
 "cells": [
  {
   "cell_type": "markdown",
   "id": "77df484d",
   "metadata": {},
   "source": [
    "# Notebook for non-kernel models"
   ]
  },
  {
   "cell_type": "code",
   "execution_count": null,
   "id": "35c8a7d0",
   "metadata": {},
   "outputs": [],
   "source": [
    "import numpy as np\n",
    "import matplotlib.pyplot as plt\n",
    "from scipy.io import loadmat\n",
    "from sklearn.svm import SVC\n",
    "from sklearn.linear_model import LogisticRegression, LinearRegression\n",
    "from sklearn.model_selection import train_test_split, cross_val_score\n",
    "from sklearn.metrics import (\n",
    "    classification_report,\n",
    "    make_scorer,\n",
    "    fbeta_score,\n",
    "    accuracy_score,\n",
    "    roc_auc_score,\n",
    ")\n",
    "\n",
    "from scripts.nested_CV import nested_cv, nested_cv_multi"
   ]
  },
  {
   "cell_type": "code",
   "execution_count": 2,
   "id": "c5f61b6c",
   "metadata": {},
   "outputs": [
    {
     "name": "stderr",
     "output_type": "stream",
     "text": [
      "c:\\Users\\haani\\AppData\\Local\\Programs\\Python\\Python311\\Lib\\site-packages\\sklearn\\metrics\\_scorer.py:610: FutureWarning: The `needs_threshold` and `needs_proba` parameter are deprecated in version 1.4 and will be removed in 1.6. You can either let `response_method` be `None` or set it to `predict` to preserve the same behaviour.\n",
      "  warnings.warn(\n"
     ]
    }
   ],
   "source": [
    "# configs\n",
    "seed = 42  # for repeatability\n",
    "\n",
    "fbeta_scorer = make_scorer(fbeta_score, beta=2)\n",
    "accuracy_scorer = make_scorer(accuracy_score)\n",
    "roc_auc_scorer = make_scorer(roc_auc_score, needs_threshold=True)\n",
    "\n",
    "score_dict = {\n",
    "    \"f2\": fbeta_scorer,\n",
    "    \"roc_auc\": roc_auc_scorer,\n",
    "    \"accuracy\": accuracy_scorer,\n",
    "}"
   ]
  },
  {
   "cell_type": "markdown",
   "id": "723a07fd",
   "metadata": {},
   "source": [
    "### Data import and preprocessing"
   ]
  },
  {
   "cell_type": "code",
   "execution_count": 3,
   "id": "acb587b7",
   "metadata": {},
   "outputs": [
    {
     "name": "stdout",
     "output_type": "stream",
     "text": [
      "(200, 60) (200,)\n"
     ]
    }
   ],
   "source": [
    "# data\n",
    "file_path = \"../data/laser.mat\"\n",
    "mat = loadmat(file_path)\n",
    "\n",
    "X = mat[\"X\"]\n",
    "y = mat[\"Y\"].reshape(200)\n",
    "y_flipped = y * -1\n",
    "\n",
    "print(X.shape, y.shape)"
   ]
  },
  {
   "cell_type": "markdown",
   "id": "1599cb6b",
   "metadata": {},
   "source": [
    "#### Normalization\n",
    "Z score normalization is applied to each instance. This is done, incase some samples have a different frequency specification, which we don't want our models to learn. Instead we just want to look at the relative $\\Delta$ between time stamps.\n",
    "\n",
    "The zscore normalization is defined as follows:\n",
    "\n",
    "$$\n",
    "z = \\frac {x - \\bar{x}}{\\sigma}  \\text \\space \\newline where, \\bar{x} = \\text{mean} \\space and \\space \\sigma = \\text{standard deviation}\n",
    "$$"
   ]
  },
  {
   "cell_type": "code",
   "execution_count": 4,
   "id": "ac10ed4c",
   "metadata": {},
   "outputs": [],
   "source": [
    "# normalizing the data and splitting into train/test splits\n",
    "X = (X - X.mean(axis=1, keepdims=True)) / X.std(axis=1, keepdims=True)"
   ]
  },
  {
   "cell_type": "markdown",
   "id": "f0d04234",
   "metadata": {},
   "source": [
    "## Tuning and Evaluation\n",
    "\n",
    "### Metric\n",
    "We would like to tune the hyperparameters for the $f_{\\beta}$ (formula given below) score of the negative class, with $\\beta > 1$ (i.e. recall is more important than precision), under the assumption that shipping a medical grade laser is more expensive than re-testing and/or repairing it. Therefore, it's better to identify as many faulty lasers as possible, even if it means re-testing some positive ones.\n",
    "\n",
    "However, there is a caveat to this approach. $f$-measures are sensitive to class imbalance, and in the real world we can assume that faulty lasers would be rarer, which is not the case with the dataset provided. Therefore, tuning for $f_{\\beta}$ is only a good idea in a vacuum and in the context of this project, where the both the test and training splits have balanced classes. In the real world, given more data and also more varied data, ROC AUC (explanation below) would be a much better metric, as it finds out the better model overall. It would be even better to use ROC AUC in conjunction with giving a higher penalty to faulty lasers classified as non-faulty (False negatives). Furthermore, it was also discovered when employing ROC AUC on this toy dataset that extreme hyperparameters were chosen, by the nested cross validation loop - indicating overfitting, possibly due to the lack of enough data and not enough variety. Therefore, ultimately a choice was made to go with $f_{\\beta}$ for hyperparameter tuning and evaluation.\n",
    "\n",
    "**F2 Measure**\n",
    "$$\n",
    "f_{\\beta} =\\frac {\\beta^{2} + 1}  {\\beta^{2} \\cdot recall^{-1} + precision^{-1}} = \\frac {1+\\beta^{2} \\cdot precision \\cdot recall} {(\\beta^{2} \\cdot precision) + recall} \n",
    "\\newline\n",
    "$$\n",
    "\n",
    "**ROC AUC** <br>\n",
    "ROC AUC is calculated by computing the area under the curve of TPR (recall) v/s FPR\n",
    "$$\n",
    "r_{TP} = \\frac{n_{TP}}{n_{TP} + n_{FN}} \\space \\text{and} \\space\n",
    "r_{FP} = \\frac{n_{FP}}{n_{FP}+n_{TN}}\n",
    "$$"
   ]
  },
  {
   "cell_type": "markdown",
   "id": "002262b1",
   "metadata": {},
   "source": [
    "#### Nested Cross Validation\n",
    "Here is a visual explanation of nested cross validation: <br>\n",
    "![image](../diagrams/nested.jpg)\n",
    "\n",
    "The `nested_cv` function performs nested cross validation, with (by default) 5 outer and 5 inner loops and is abstracted away at `src/scripts/nested_CV.py`"
   ]
  },
  {
   "cell_type": "markdown",
   "id": "7b9c5549",
   "metadata": {},
   "source": [
    "## Baseline: Logistic Regression\n",
    "\n",
    "### Description\n",
    "Regression, that uses the sigmoid function as the decision function to classify instances. It uses the logistic loss and we use the L2 penalty here.\n",
    "\n",
    "Sigmoid function:\n",
    "$$\n",
    "f_{\\theta}(x) = \\frac {1}{1+e^{-x}}\n",
    "$$\n",
    "\n",
    "Logistic loss:\n",
    "$$\n",
    "\\mathcal{l}_{\\text log}(f_{\\theta (x_{\\text i}), y_{\\text i}}) = log(1+e^{-y_{i} f_{\\theta}(x_{i})})\n",
    "\n",
    "$$"
   ]
  },
  {
   "cell_type": "code",
   "execution_count": 5,
   "id": "7df520c7",
   "metadata": {},
   "outputs": [
    {
     "name": "stdout",
     "output_type": "stream",
     "text": [
      ">>>>RESULTS<<<<\n",
      "Mean scores over 5 by 5 rounds of Nested CV  {'f2': 0.9193507586052723, 'roc_auc': 0.9630000000000001, 'accuracy': 0.9199999999999999}\n",
      "Best parameters  {'C': 0.1}\n"
     ]
    }
   ],
   "source": [
    "param_grid_log = {\"C\": np.logspace(-3, 3, 7)}\n",
    "results = nested_cv_multi(\n",
    "    LogisticRegression(penalty=\"l2\"),\n",
    "    X,\n",
    "    y_flipped,\n",
    "    param_grid=param_grid_log,\n",
    "    scoring=score_dict,\n",
    "    random_state=seed,\n",
    ")\n",
    "\n",
    "print(\">>>>RESULTS<<<<\")\n",
    "print(\n",
    "    \"Mean scores over 5 by 5 rounds of Nested CV \",\n",
    "    results[\"mean_scores\"],\n",
    ")\n",
    "print(\"Best parameters \", results[\"star_params\"])"
   ]
  },
  {
   "cell_type": "code",
   "execution_count": 6,
   "id": "46bd1092",
   "metadata": {},
   "outputs": [
    {
     "name": "stdout",
     "output_type": "stream",
     "text": [
      "{'outer_scores': [{'f2': 0.8585858585858586, 'roc_auc': 0.9675, 'accuracy': 0.875}, {'f2': 0.8585858585858586, 'roc_auc': 0.9199999999999999, 'accuracy': 0.875}, {'f2': 0.9900990099009901, 'roc_auc': 1.0, 'accuracy': 0.975}, {'f2': 0.9803921568627451, 'roc_auc': 0.95, 'accuracy': 0.95}, {'f2': 0.9090909090909091, 'roc_auc': 0.9775, 'accuracy': 0.925}], 'mean_scores': {'f2': 0.9193507586052723, 'roc_auc': 0.9630000000000001, 'accuracy': 0.9199999999999999}, 'std_scores': {'f2': 0.05695854285956674, 'roc_auc': 0.026897955312625562, 'accuracy': 0.03999999999999999}, 'best_params': [{'C': 1000.0}, {'C': 10.0}, {'C': 0.1}, {'C': 1.0}, {'C': 0.1}], 'star_params': {'C': 0.1}}\n"
     ]
    }
   ],
   "source": [
    "print(results)"
   ]
  },
  {
   "cell_type": "code",
   "execution_count": 7,
   "id": "9f2d5098",
   "metadata": {},
   "outputs": [
    {
     "name": "stdout",
     "output_type": "stream",
     "text": [
      "[1] [1]\n"
     ]
    }
   ],
   "source": [
    "clf_log = LogisticRegression(C=0.1)\n",
    "clf_log.fit(np.delete(X, [35, 162], axis=0), np.delete(y_flipped, [35, 162], axis=0))\n",
    "\n",
    "odd_laser_faulty = clf_log.predict([X[35]])\n",
    "odd_laser_non_faulty = clf_log.predict([X[162]])\n",
    "print(odd_laser_faulty, odd_laser_non_faulty)"
   ]
  },
  {
   "cell_type": "markdown",
   "id": "e6b8e405",
   "metadata": {},
   "source": [
    "## BUT ..... "
   ]
  },
  {
   "cell_type": "code",
   "execution_count": 8,
   "id": "66b6b517",
   "metadata": {},
   "outputs": [
    {
     "data": {
      "text/plain": [
       "[<matplotlib.lines.Line2D at 0x180b926c690>]"
      ]
     },
     "execution_count": 8,
     "metadata": {},
     "output_type": "execute_result"
    },
    {
     "data": {
      "image/png": "[encoded data removed]",
      "text/plain": [
       "<Figure size 640x480 with 1 Axes>"
      ]
     },
     "metadata": {},
     "output_type": "display_data"
    }
   ],
   "source": [
    "plt.plot(clf_log.coef_[0])"
   ]
  },
  {
   "cell_type": "markdown",
   "id": "c8e69a5b",
   "metadata": {},
   "source": [
    "## Baseline: SVM with Linear Kernel (dot product)\n",
    "\n",
    "### Description:\n",
    "The similarity metric used here is the dot product, and therefore the kernel is give by:\n",
    "\n",
    "$$\n",
    "k_{linear}(x,x') = x \\cdot x' \n",
    "$$"
   ]
  },
  {
   "cell_type": "code",
   "execution_count": 10,
   "id": "7f372e1a",
   "metadata": {},
   "outputs": [
    {
     "name": "stdout",
     "output_type": "stream",
     "text": [
      ">>>>RESULTS<<<<\n",
      "Mean scores over 5 by 5 rounds of Nested CV  {'f2': 0.9296034021868603, 'roc_auc': 0.9685, 'accuracy': 0.9299999999999999}\n",
      "Best parameters  {'C': 0.1}\n"
     ]
    }
   ],
   "source": [
    "param_grid_poly = {\"C\": [.0001, 0.001, 0.01, 0.1, 1, 10]}\n",
    "\n",
    "results_poly = nested_cv_multi(\n",
    "    SVC(kernel='linear'), X, y_flipped, param_grid_poly, scoring=score_dict, random_state=seed\n",
    ")\n",
    "print(\">>>>RESULTS<<<<\")\n",
    "print(\"Mean scores over 5 by 5 rounds of Nested CV \", results_poly[\"mean_scores\"])\n",
    "print(\"Best parameters \", results_poly[\"star_params\"])"
   ]
  },
  {
   "cell_type": "code",
   "execution_count": null,
   "id": "9f25e62b",
   "metadata": {},
   "outputs": [],
   "source": [
    "clf_lin = SVC(kernel='linear', C=.1)\n",
    "clf_lin.fit(np.delete(X, [35, 162], axis=0), np.delete(y_flipped, [35, 162], axis=0))\n",
    "\n",
    "odd_laser_faulty = clf_lin.predict([X[35]])\n",
    "odd_laser_non_faulty = clf_lin.predict([X[162]])\n",
    "print(odd_laser_faulty, odd_laser_non_faulty)"
   ]
  }
 ],
 "metadata": {
  "kernelspec": {
   "display_name": "Python 3",
   "language": "python",
   "name": "python3"
  },
  "language_info": {
   "codemirror_mode": {
    "name": "ipython",
    "version": 3
   },
   "file_extension": ".py",
   "mimetype": "text/x-python",
   "name": "python",
   "nbconvert_exporter": "python",
   "pygments_lexer": "ipython3",
   "version": "3.11.1"
  }
 },
 "nbformat": 4,
 "nbformat_minor": 5
}
