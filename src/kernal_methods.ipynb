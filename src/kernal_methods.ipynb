{
 "cells": [
  {
   "cell_type": "markdown",
   "id": "0d3595a7",
   "metadata": {},
   "source": [
    "# Kernals"
   ]
  },
  {
   "cell_type": "code",
   "execution_count": 1,
   "id": "061a1576",
   "metadata": {},
   "outputs": [],
   "source": [
    "import numpy as np\n",
    "import matplotlib.pyplot as plt\n",
    "from scipy.io import loadmat\n",
    "from sklearn.model_selection import train_test_split\n",
    "from sklearn.metrics import classification_report\n",
    "from sklearn.metrics import recall_score, roc_auc_score, make_scorer, accuracy_score, fbeta_score\n",
    "from sklearn.model_selection import StratifiedKFold\n",
    "import pandas as pd\n",
    "\n",
    "\n",
    "from scripts.kernals import *\n",
    "from scripts.nested_CV import nested_cv"
   ]
  },
  {
   "cell_type": "code",
   "execution_count": 2,
   "id": "96f7865f",
   "metadata": {},
   "outputs": [
    {
     "name": "stdout",
     "output_type": "stream",
     "text": [
      "(200, 60) (200,)\n"
     ]
    }
   ],
   "source": [
    "# data\n",
    "file_path = \"../data/laser.mat\"\n",
    "mat = loadmat(file_path)\n",
    "\n",
    "X = mat[\"X\"]\n",
    "y = mat[\"Y\"].reshape(200)\n",
    "\n",
    "print(X.shape, y.shape)"
   ]
  },
  {
   "cell_type": "code",
   "execution_count": 3,
   "id": "2ccaaa4e",
   "metadata": {},
   "outputs": [],
   "source": [
    "# configs\n",
    "seed = 42  # for repeatability\n",
    "np.random.seed(42)\n",
    "recall_scorer = make_scorer(recall_score, pos_label=-1)\n",
    "accuracy_scorer = make_scorer(accuracy_score)\n",
    "fbeta_scorer = make_scorer(fbeta_score, beta=2, pos_label=-1)\n"
   ]
  },
  {
   "cell_type": "code",
   "execution_count": 4,
   "id": "c4db8dc7",
   "metadata": {},
   "outputs": [],
   "source": [
    "# normalizing the data\n",
    "X = (X - X.mean(axis=1, keepdims=True)) / X.std(axis=1, keepdims=True)\n",
    "X_train, X_test, y_train, y_test = train_test_split(\n",
    "    X, y, test_size=0.2, random_state=seed\n",
    ")"
   ]
  },
  {
   "cell_type": "markdown",
   "id": "2305244b",
   "metadata": {},
   "source": [
    "# Support Vector Machines\n",
    "\n",
    "Classifiers, that use the hinge loss and use the L2 regularizer\n",
    "\n",
    "In the dual mode, they can be used in conjunction with kernal methods, which is what is employed in the following notebook.\n"
   ]
  },
  {
   "cell_type": "markdown",
   "id": "cc60d4d3",
   "metadata": {},
   "source": [
    "## 1. SVC with Polynomial Kernal"
   ]
  },
  {
   "cell_type": "markdown",
   "id": "0642267d",
   "metadata": {},
   "source": [
    "### Description\n",
    "The idea here is to map the data into a higher dimensional space, such that data is linearly seperable in that space and we can then perform linear classification\n"
   ]
  },
  {
   "cell_type": "markdown",
   "id": "7abd6a36",
   "metadata": {},
   "source": [
    "### Nested CV\n",
    "We run a nested cross validation function for the following hyperparameters of the Polynomial Kernal:\n",
    "- p - degree of polynomial\n",
    "- lambda - regularization coefficient"
   ]
  },
  {
   "cell_type": "code",
   "execution_count": null,
   "id": "61707b54",
   "metadata": {},
   "outputs": [
    {
     "name": "stdout",
     "output_type": "stream",
     "text": [
      ">>>>RESULTS<<<<\n",
      "Mean f2 score (of negative class) over 5 by 5 rounds of Nested CV  0.8333333333333334\n",
      "Best parameters  {'k_param': 2, 'lbda': 0.01}\n"
     ]
    }
   ],
   "source": [
    "param_grid_poly = {\n",
    "    'k_param' : [2,3,4,5,6], # degree of polynomial\n",
    "    'lbda' : [.01, .1, 1, 10, 100],\n",
    "}\n",
    "results = nested_cv(KernelEstimator(k_poly), X, y, param_grid=param_grid_poly, scoring=fbeta_scorer, random_state=seed)\n",
    "\n",
    "print(\">>>>RESULTS<<<<\")\n",
    "print(\"Mean f2 score (of negative class) over 5 by 5 rounds of Nested CV \", results[\"mean_score\"])\n",
    "print(\"Best parameters \", results[\"star_params\"])"
   ]
  },
  {
   "cell_type": "code",
   "execution_count": 6,
   "id": "53e0c524",
   "metadata": {},
   "outputs": [
    {
     "name": "stdout",
     "output_type": "stream",
     "text": [
      "{'mean_score': 0.8333333333333334, 'star_params': {'k_param': 2, 'lbda': 0.01}, 'outer_scores': [0.8333333333333334, 0.8333333333333334, 0.8333333333333334, 0.8333333333333334, 0.8333333333333334], 'std_score': 0.0, 'best_params': [{'k_param': 2, 'lbda': 0.01}, {'k_param': 2, 'lbda': 0.01}, {'k_param': 2, 'lbda': 0.01}, {'k_param': 2, 'lbda': 0.01}, {'k_param': 2, 'lbda': 0.01}]}\n"
     ]
    }
   ],
   "source": [
    "print(results)"
   ]
  },
  {
   "cell_type": "code",
   "execution_count": null,
   "id": "ce7f4c2c",
   "metadata": {},
   "outputs": [
    {
     "name": "stdout",
     "output_type": "stream",
     "text": [
      "[1.] [1.]\n"
     ]
    }
   ],
   "source": [
    "clf_poly = KernelEstimator(k_poly, 3, 100)\n",
    "clf_poly.fit(np.delete(X, [35, 162], axis=0), np.delete(y, [35,162], axis=0))\n",
    "\n",
    "odd_laser_faulty = clf_poly.predict([X[35]])\n",
    "odd_laser_non_faulty = clf_poly.predict([X[162]])\n",
    "print(odd_laser_faulty, odd_laser_non_faulty)"
   ]
  },
  {
   "cell_type": "code",
   "execution_count": 8,
   "id": "708546a2",
   "metadata": {},
   "outputs": [
    {
     "name": "stdout",
     "output_type": "stream",
     "text": [
      "0.097799511002445\n",
      "              precision    recall  f1-score   support\n",
      "\n",
      "          -1       0.89      0.08      0.15       100\n",
      "           1       0.52      0.99      0.68       100\n",
      "\n",
      "    accuracy                           0.54       200\n",
      "   macro avg       0.70      0.54      0.41       200\n",
      "weighted avg       0.70      0.54      0.41       200\n",
      "\n"
     ]
    }
   ],
   "source": [
    "y_preds_poly = clf_poly.predict(X)\n",
    "print(fbeta_score(y, y_preds_poly, beta=2, pos_label=-1))\n",
    "print(classification_report(y, y_preds_poly))"
   ]
  },
  {
   "cell_type": "markdown",
   "id": "524d259c",
   "metadata": {},
   "source": [
    "## 2. SVC with RBF"
   ]
  },
  {
   "cell_type": "markdown",
   "id": "b664c74b",
   "metadata": {},
   "source": [
    "### Nested CV\n",
    "We run a nested cross validation function for the following hyperparameters of the Polynomial Kernal:\n",
    "- gamma - scaling of the RBF function\n",
    "- lambda - regularization coefficient\n"
   ]
  },
  {
   "cell_type": "code",
   "execution_count": 9,
   "id": "4d48f80a",
   "metadata": {},
   "outputs": [
    {
     "name": "stdout",
     "output_type": "stream",
     "text": [
      ">>>>RESULTS<<<<\n",
      "Mean f2 score (of negative class) over 5 by 5 rounds of Nested CV  0.8125\n",
      "Best parameters  {'k_param': 0.001, 'lbda': 0.01}\n"
     ]
    }
   ],
   "source": [
    "param_grid_rbf = {\n",
    "    'k_param' : [.001,.01,.1,1], # gamma\n",
    "    'lbda' : [.01, .1, 1]\n",
    "}\n",
    "results = nested_cv(KernelEstimator(k_rbf), X, y, param_grid=param_grid_rbf, scoring=fbeta_scorer, random_state=seed)\n",
    "\n",
    "print(\">>>>RESULTS<<<<\")\n",
    "print(\"Mean f2 score (of negative class) over 5 by 5 rounds of Nested CV \", results[\"mean_score\"])\n",
    "print(\"Best parameters \", results[\"star_params\"])"
   ]
  },
  {
   "cell_type": "code",
   "execution_count": 10,
   "id": "0427f052",
   "metadata": {},
   "outputs": [
    {
     "name": "stdout",
     "output_type": "stream",
     "text": [
      "[-1.] [-1.]\n"
     ]
    }
   ],
   "source": [
    "clf_rbf = KernelEstimator(k_rbf, .001, .001, eta=.001)\n",
    "clf_rbf.fit(np.delete(X, [35, 162], axis=0), np.delete(y, [35,162], axis=0))\n",
    "\n",
    "odd_laser_faulty = clf_rbf.predict([X[35]])\n",
    "odd_laser_non_faulty = clf_rbf.predict([X[162]])\n",
    "print(odd_laser_faulty, odd_laser_non_faulty)"
   ]
  },
  {
   "cell_type": "code",
   "execution_count": 11,
   "id": "9fecd5ea",
   "metadata": {},
   "outputs": [
    {
     "name": "stdout",
     "output_type": "stream",
     "text": [
      "              precision    recall  f1-score   support\n",
      "\n",
      "          -1       0.50      0.99      0.66       100\n",
      "           1       0.00      0.00      0.00       100\n",
      "\n",
      "    accuracy                           0.49       200\n",
      "   macro avg       0.25      0.49      0.33       200\n",
      "weighted avg       0.25      0.49      0.33       200\n",
      "\n"
     ]
    }
   ],
   "source": [
    "y_preds_rbf = clf_rbf.predict(X)\n",
    "print(classification_report(y,y_preds_rbf))"
   ]
  },
  {
   "cell_type": "markdown",
   "id": "13cd6b0d",
   "metadata": {},
   "source": [
    "## 3. SVC with DTW"
   ]
  },
  {
   "cell_type": "markdown",
   "id": "18a71793",
   "metadata": {},
   "source": [
    "### Nested CV\n",
    "We run a nested cross validation function for the following hyperparameters of the Polynomial Kernal:\n",
    "- gamma - smoothing of the DTW function\n",
    "- (maybe) k - distance (Euclidean, manhattan, )\n",
    "- lambda - regularization coefficient"
   ]
  },
  {
   "cell_type": "code",
   "execution_count": null,
   "id": "4f572b81",
   "metadata": {},
   "outputs": [],
   "source": [
    "param_grid_dtw = {\n",
    "    'k_param' : [.001, .01, .1,1], # gamma\n",
    "    'lbda' : [.01, .1, 1],\n",
    "}\n",
    "results = nested_cv(KernelEstimator(k2_hyp), X, y, param_grid=param_grid_dtw, scoring=fbeta_scorer, random_state=seed)\n",
    "\n",
    "print(\">>>>RESULTS<<<<\")\n",
    "print(\"Mean f2 score (of negative class) over 3 by 3 rounds of Nested CV \", results[\"mean_score\"])\n",
    "print(\"Best parameters \", results[\"star_params\"])"
   ]
  },
  {
   "cell_type": "code",
   "execution_count": null,
   "id": "0945a814",
   "metadata": {},
   "outputs": [
    {
     "name": "stdout",
     "output_type": "stream",
     "text": [
      "{'mean_score': 0.8333333333333334, 'star_params': {'eta': 0.001, 'k_param': 0.001, 'lbda': 0.001}, 'outer_scores': [0.8333333333333334, 0.8333333333333334, 0.8333333333333334, 0.8333333333333334, 0.8333333333333334], 'std_score': 0.0, 'best_params': [{'eta': 0.001, 'k_param': 0.001, 'lbda': 0.001}, {'eta': 0.001, 'k_param': 0.001, 'lbda': 0.001}, {'eta': 0.001, 'k_param': 0.001, 'lbda': 0.001}, {'eta': 0.001, 'k_param': 0.001, 'lbda': 0.001}, {'eta': 0.001, 'k_param': 0.001, 'lbda': 0.001}]}\n"
     ]
    }
   ],
   "source": [
    "print(results)"
   ]
  },
  {
   "cell_type": "code",
   "execution_count": null,
   "id": "e2b8a6b1",
   "metadata": {},
   "outputs": [
    {
     "name": "stdout",
     "output_type": "stream",
     "text": [
      "[-1.] [-1.]\n"
     ]
    }
   ],
   "source": [
    "clf_dtw = KernelEstimator(k2_hyp, .001, .001)\n",
    "clf_dtw.fit(np.delete(X, [35, 162], axis=0), np.delete(y, [35,162], axis=0))\n",
    "\n",
    "odd_laser_faulty = clf_dtw.predict([X[35]])\n",
    "odd_laser_non_faulty = clf_dtw.predict([X[162]])\n",
    "print(odd_laser_faulty, odd_laser_non_faulty)"
   ]
  },
  {
   "cell_type": "code",
   "execution_count": null,
   "id": "cf49eadf",
   "metadata": {},
   "outputs": [
    {
     "name": "stdout",
     "output_type": "stream",
     "text": [
      "              precision    recall  f1-score   support\n",
      "\n",
      "          -1       0.50      0.99      0.66       100\n",
      "           1       0.00      0.00      0.00       100\n",
      "\n",
      "    accuracy                           0.49       200\n",
      "   macro avg       0.25      0.49      0.33       200\n",
      "weighted avg       0.25      0.49      0.33       200\n",
      "\n",
      "[-1. -1. -1. -1. -1. -1. -1. -1. -1. -1. -1. -1. -1. -1. -1. -1. -1. -1.\n",
      " -1. -1. -1. -1. -1. -1. -1. -1. -1. -1. -1. -1. -1. -1. -1. -1. -1. -1.\n",
      " -1. -1. -1. -1. -1. -1. -1. -1. -1. -1. -1. -1. -1. -1. -1. -1. -1. -1.\n",
      " -1. -1. -1. -1. -1. -1. -1. -1. -1. -1. -1. -1. -1. -1. -1. -1. -1. -1.\n",
      " -1. -1. -1. -1. -1. -1. -1. -1. -1. -1. -1. -1. -1. -1. -1. -1. -1. -1.\n",
      " -1. -1. -1. -1. -1. -1. -1. -1. -1. -1. -1. -1. -1. -1. -1. -1. -1. -1.\n",
      " -1. -1. -1. -1. -1. -1. -1. -1. -1. -1. -1. -1. -1. -1. -1. -1. -1. -1.\n",
      " -1. -1. -1. -1. -1. -1. -1. -1. -1. -1. -1. -1. -1. -1. -1. -1. -1. -1.\n",
      " -1. -1. -1. -1. -1. -1. -1. -1. -1. -1. -1. -1. -1. -1. -1. -1. -1. -1.\n",
      " -1. -1. -1. -1. -1. -1. -1. -1. -1. -1. -1. -1. -1. -1. -1. -1. -1. -1.\n",
      " -1. -1. -1. -1. -1. -1. -1. -1. -1. -1. -1. -1. -1. -1. -1. -1. -1. -1.\n",
      " -1.  1.]\n"
     ]
    }
   ],
   "source": [
    "y_preds_dtw = clf_dtw.predict(X)\n",
    "print(classification_report(y,y_preds_dtw))\n",
    "\n",
    "print(y_preds_dtw)"
   ]
  }
 ],
 "metadata": {
  "kernelspec": {
   "display_name": "Python 3",
   "language": "python",
   "name": "python3"
  },
  "language_info": {
   "codemirror_mode": {
    "name": "ipython",
    "version": 3
   },
   "file_extension": ".py",
   "mimetype": "text/x-python",
   "name": "python",
   "nbconvert_exporter": "python",
   "pygments_lexer": "ipython3",
   "version": "3.11.1"
  }
 },
 "nbformat": 4,
 "nbformat_minor": 5
}
