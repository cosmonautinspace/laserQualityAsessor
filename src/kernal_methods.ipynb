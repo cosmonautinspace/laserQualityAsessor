{
 "cells": [
  {
   "cell_type": "markdown",
   "id": "0d3595a7",
   "metadata": {},
   "source": [
    "# Kernals"
   ]
  },
  {
   "cell_type": "code",
   "execution_count": 46,
   "id": "061a1576",
   "metadata": {},
   "outputs": [],
   "source": [
    "import numpy as np\n",
    "import matplotlib.pyplot as plt\n",
    "from scipy.io import loadmat\n",
    "from sklearn.model_selection import train_test_split\n",
    "from sklearn.metrics import classification_report\n",
    "from sklearn.metrics import recall_score, roc_auc_score, make_scorer\n",
    "from sklearn.model_selection import StratifiedKFold\n",
    "import pandas as pd\n",
    "\n",
    "\n",
    "from scripts.kernals import *\n",
    "from scripts.nested_CV import nested_cv"
   ]
  },
  {
   "cell_type": "code",
   "execution_count": 47,
   "id": "96f7865f",
   "metadata": {},
   "outputs": [
    {
     "name": "stdout",
     "output_type": "stream",
     "text": [
      "(200, 60) (200,)\n"
     ]
    }
   ],
   "source": [
    "# data\n",
    "file_path = \"../data/laser.mat\"\n",
    "mat = loadmat(file_path)\n",
    "\n",
    "X = mat[\"X\"]\n",
    "y = mat[\"Y\"].reshape(200)\n",
    "\n",
    "print(X.shape, y.shape)"
   ]
  },
  {
   "cell_type": "code",
   "execution_count": 48,
   "id": "2ccaaa4e",
   "metadata": {},
   "outputs": [
    {
     "name": "stdout",
     "output_type": "stream",
     "text": [
      "[ 0.49671415 -0.1382643 ]\n"
     ]
    }
   ],
   "source": [
    "# configs\n",
    "seed = 42  # for repeatability\n",
    "np.random.seed(42)\n",
    "\n",
    "print(np.random.randn(2))"
   ]
  },
  {
   "cell_type": "code",
   "execution_count": 49,
   "id": "c4db8dc7",
   "metadata": {},
   "outputs": [],
   "source": [
    "# normalizing the data\n",
    "X = (X - X.mean(axis=1, keepdims=True)) / X.std(axis=1, keepdims=True)\n",
    "X_train, X_test, y_train, y_test = train_test_split(\n",
    "    X, y, test_size=0.2, random_state=seed\n",
    ")"
   ]
  },
  {
   "cell_type": "markdown",
   "id": "cc60d4d3",
   "metadata": {},
   "source": [
    "## 1. SVC with Polynomical Kernal"
   ]
  },
  {
   "cell_type": "code",
   "execution_count": 50,
   "id": "ef75cbbc",
   "metadata": {},
   "outputs": [],
   "source": [
    "clf_poly = KernelEstimator(k_poly, 3, 100)\n",
    "clf_poly.fit(X_train, y_train)\n",
    "y_preds_rbf = clf_poly.predict(X_test)"
   ]
  },
  {
   "cell_type": "code",
   "execution_count": 59,
   "id": "00c48f78",
   "metadata": {},
   "outputs": [
    {
     "name": "stdout",
     "output_type": "stream",
     "text": [
      "[ 1. -1. -1. -1. -1. -1.  1. -1. -1. -1. -1. -1.  1. -1. -1. -1. -1.  1.\n",
      " -1. -1.  1. -1. -1.  1. -1. -1. -1. -1. -1. -1. -1.  1. -1. -1. -1. -1.\n",
      " -1. -1. -1. -1.  1. -1. -1. -1. -1. -1. -1. -1. -1. -1.  1. -1. -1. -1.\n",
      " -1.  1. -1. -1. -1.  1. -1. -1. -1. -1.  1.  1.  1. -1. -1. -1. -1.  1.\n",
      "  1. -1. -1. -1.  1. -1. -1. -1. -1. -1.  1.  1. -1. -1. -1. -1. -1. -1.\n",
      " -1.  1. -1.  1. -1. -1. -1.  1. -1. -1. -1. -1. -1. -1. -1. -1.  1. -1.\n",
      "  1. -1. -1. -1. -1.  1. -1. -1.  1. -1. -1. -1.  1. -1.  1. -1. -1. -1.\n",
      " -1. -1.  1. -1. -1. -1. -1. -1. -1.  1. -1. -1. -1. -1. -1. -1. -1. -1.\n",
      " -1. -1. -1. -1. -1. -1. -1.  1. -1. -1. -1. -1.  1. -1. -1. -1. -1. -1.\n",
      "  1. -1. -1. -1. -1.  1. -1. -1. -1. -1.  1. -1. -1. -1. -1. -1. -1.  1.\n",
      "  1. -1. -1. -1. -1. -1. -1.  1.  1. -1. -1. -1. -1. -1. -1. -1. -1. -1.\n",
      " -1. -1.]\n",
      "              precision    recall  f1-score   support\n",
      "\n",
      "          -1       0.40      0.65      0.50       100\n",
      "           1       0.10      0.04      0.06       100\n",
      "\n",
      "    accuracy                           0.34       200\n",
      "   macro avg       0.25      0.35      0.28       200\n",
      "weighted avg       0.25      0.34      0.28       200\n",
      "\n"
     ]
    }
   ],
   "source": [
    "np.random.seed(42)\n",
    "clf_poly.fit(X, y)\n",
    "y_preds_poly = clf_poly.predict(X)\n",
    "print(y_preds_poly)\n",
    "print(classification_report(y, y_preds_poly))"
   ]
  },
  {
   "cell_type": "code",
   "execution_count": 7,
   "id": "ce7f4c2c",
   "metadata": {},
   "outputs": [
    {
     "name": "stdout",
     "output_type": "stream",
     "text": [
      "[-1.] [-1.]\n"
     ]
    }
   ],
   "source": [
    "odd_laser_faulty = clf_poly.predict([X[35]])\n",
    "odd_laser_non_faulty = clf_poly.predict([X[162]])\n",
    "print(odd_laser_faulty, odd_laser_non_faulty)"
   ]
  },
  {
   "cell_type": "markdown",
   "id": "524d259c",
   "metadata": {},
   "source": [
    "## 2. SVC with RBF"
   ]
  },
  {
   "cell_type": "code",
   "execution_count": null,
   "id": "a98043c8",
   "metadata": {},
   "outputs": [
    {
     "ename": "TypeError",
     "evalue": "<lambda>.<locals>.<lambda>() missing 1 required positional argument: 'x2'",
     "output_type": "error",
     "traceback": [
      "\u001b[31m---------------------------------------------------------------------------\u001b[39m",
      "\u001b[31mTypeError\u001b[39m                                 Traceback (most recent call last)",
      "\u001b[36mCell\u001b[39m\u001b[36m \u001b[39m\u001b[32mIn[8]\u001b[39m\u001b[32m, line 2\u001b[39m\n\u001b[32m      1\u001b[39m clf_rbf = KernelEstimator(k_rbf(\u001b[32m2\u001b[39m), \u001b[32m10\u001b[39m)\n\u001b[32m----> \u001b[39m\u001b[32m2\u001b[39m \u001b[43mclf_rbf\u001b[49m\u001b[43m.\u001b[49m\u001b[43mfit\u001b[49m\u001b[43m(\u001b[49m\u001b[43mX_train\u001b[49m\u001b[43m,\u001b[49m\u001b[43m \u001b[49m\u001b[43my_train\u001b[49m\u001b[43m)\u001b[49m\n\u001b[32m      3\u001b[39m y_preds_rbf = clf_rbf.predict(X_test)\n",
      "\u001b[36mFile \u001b[39m\u001b[32mc:\\Users\\haani\\Desktop\\Uni\\Sem 2\\ML\\project\\src\\scripts\\kernals.py:195\u001b[39m, in \u001b[36mKernelEstimator.fit\u001b[39m\u001b[34m(self, X, y)\u001b[39m\n\u001b[32m    194\u001b[39m \u001b[38;5;28;01mdef\u001b[39;00m\u001b[38;5;250m \u001b[39m\u001b[34mfit\u001b[39m(\u001b[38;5;28mself\u001b[39m, X, y):\n\u001b[32m--> \u001b[39m\u001b[32m195\u001b[39m     \u001b[38;5;28mself\u001b[39m.built_kernal = \u001b[38;5;28;43mself\u001b[39;49m\u001b[43m.\u001b[49m\u001b[43mk\u001b[49m\u001b[43m(\u001b[49m\u001b[38;5;28;43mself\u001b[39;49m\u001b[43m.\u001b[49m\u001b[43mk_param\u001b[49m\u001b[43m)\u001b[49m\n\u001b[32m    196\u001b[39m     \u001b[38;5;28mself\u001b[39m._X_train = X\n\u001b[32m    197\u001b[39m     \u001b[38;5;28mself\u001b[39m._alpha, _ = learn_reg_kernel_ERM(\n\u001b[32m    198\u001b[39m         X, y, lbda=\u001b[38;5;28mself\u001b[39m.lbda, k=\u001b[38;5;28mself\u001b[39m.built_kernal, max_iter=\u001b[38;5;28mself\u001b[39m.max_iter, eta=\u001b[38;5;28mself\u001b[39m.eta, tol=\u001b[38;5;28mself\u001b[39m.tol\n\u001b[32m    199\u001b[39m     )\n",
      "\u001b[31mTypeError\u001b[39m: <lambda>.<locals>.<lambda>() missing 1 required positional argument: 'x2'"
     ]
    }
   ],
   "source": [
    "np.random.seed(42)\n",
    "clf_rbf = KernelEstimator(k_rbf(2), 10)\n",
    "clf_rbf.fit(X_train, y_train)\n",
    "y_preds_rbf = clf_rbf.predict(X_test)"
   ]
  },
  {
   "cell_type": "code",
   "execution_count": null,
   "id": "d99b21ea",
   "metadata": {},
   "outputs": [
    {
     "name": "stdout",
     "output_type": "stream",
     "text": [
      "              precision    recall  f1-score   support\n",
      "\n",
      "          -1       0.76      0.94      0.84        17\n",
      "           1       0.95      0.78      0.86        23\n",
      "\n",
      "    accuracy                           0.85        40\n",
      "   macro avg       0.85      0.86      0.85        40\n",
      "weighted avg       0.87      0.85      0.85        40\n",
      "\n"
     ]
    }
   ],
   "source": [
    "y_preds_rbf = clf_rbf.predict(X_test)\n",
    "print(classification_report(y_test, y_preds_rbf))"
   ]
  },
  {
   "cell_type": "code",
   "execution_count": null,
   "id": "0427f052",
   "metadata": {},
   "outputs": [
    {
     "name": "stdout",
     "output_type": "stream",
     "text": [
      "[-1.] [-1.]\n"
     ]
    }
   ],
   "source": [
    "odd_laser_faulty = clf_rbf.predict([X[35]])\n",
    "odd_laser_non_faulty = clf_rbf.predict([X[162]])\n",
    "print(odd_laser_faulty, odd_laser_non_faulty)"
   ]
  },
  {
   "cell_type": "markdown",
   "id": "13cd6b0d",
   "metadata": {},
   "source": [
    "## 3. SVC with DTW"
   ]
  },
  {
   "cell_type": "code",
   "execution_count": null,
   "id": "4b05b1cd",
   "metadata": {},
   "outputs": [],
   "source": [
    "clf_dtw = KernelEstimator(k2_hyp(2), 10)\n",
    "clf_dtw.fit(X_train, y_train)\n",
    "y_preds_dtw = clf_dtw.predict(X_test)"
   ]
  },
  {
   "cell_type": "code",
   "execution_count": null,
   "id": "d952daef",
   "metadata": {},
   "outputs": [
    {
     "name": "stdout",
     "output_type": "stream",
     "text": [
      "              precision    recall  f1-score   support\n",
      "\n",
      "          -1       0.92      0.65      0.76        17\n",
      "           1       0.79      0.96      0.86        23\n",
      "\n",
      "    accuracy                           0.82        40\n",
      "   macro avg       0.85      0.80      0.81        40\n",
      "weighted avg       0.84      0.82      0.82        40\n",
      "\n"
     ]
    }
   ],
   "source": [
    "y_preds_dtw = y_preds_dtw.astype(int)\n",
    "print(classification_report(y_test, y_preds_dtw))"
   ]
  },
  {
   "cell_type": "code",
   "execution_count": null,
   "id": "ebd3cad6",
   "metadata": {},
   "outputs": [
    {
     "name": "stdout",
     "output_type": "stream",
     "text": [
      "[-1.] [-1.]\n"
     ]
    }
   ],
   "source": [
    "odd_laser_faulty = clf_dtw.predict([X[35]])\n",
    "odd_laser_non_faulty = clf_dtw.predict([X[162]])\n",
    "print(odd_laser_faulty, odd_laser_non_faulty)"
   ]
  }
 ],
 "metadata": {
  "kernelspec": {
   "display_name": "Python 3",
   "language": "python",
   "name": "python3"
  },
  "language_info": {
   "codemirror_mode": {
    "name": "ipython",
    "version": 3
   },
   "file_extension": ".py",
   "mimetype": "text/x-python",
   "name": "python",
   "nbconvert_exporter": "python",
   "pygments_lexer": "ipython3",
   "version": "3.11.1"
  }
 },
 "nbformat": 4,
 "nbformat_minor": 5
}
