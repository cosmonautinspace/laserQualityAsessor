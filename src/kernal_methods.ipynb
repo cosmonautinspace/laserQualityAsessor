{
 "cells": [
  {
   "cell_type": "markdown",
   "id": "0d3595a7",
   "metadata": {},
   "source": [
    "# Kernels"
   ]
  },
  {
   "cell_type": "code",
   "execution_count": 65,
   "id": "061a1576",
   "metadata": {},
   "outputs": [],
   "source": [
    "import numpy as np\n",
    "from scipy.io import loadmat\n",
    "from sklearn.model_selection import train_test_split\n",
    "from sklearn.metrics import classification_report\n",
    "from sklearn.metrics import make_scorer, fbeta_score, accuracy_score\n",
    "\n",
    "\n",
    "from scripts.nested_CV import nested_cv\n",
    "from scripts.skwrapped_kernals import dtw_SVC, rbf_SVC, poly_SVC"
   ]
  },
  {
   "cell_type": "code",
   "execution_count": 66,
   "id": "96f7865f",
   "metadata": {},
   "outputs": [
    {
     "name": "stdout",
     "output_type": "stream",
     "text": [
      "(200, 60) (200,)\n"
     ]
    }
   ],
   "source": [
    "# data\n",
    "file_path = \"../data/laser.mat\"\n",
    "mat = loadmat(file_path)\n",
    "\n",
    "X = mat[\"X\"]\n",
    "y = mat[\"Y\"].reshape(200)\n",
    "\n",
    "print(X.shape, y.shape)"
   ]
  },
  {
   "cell_type": "code",
   "execution_count": null,
   "id": "2ccaaa4e",
   "metadata": {},
   "outputs": [],
   "source": [
    "# configs\n",
    "seed = 571489  # for repeatability\n",
    "np.random.seed(42)\n",
    "\n",
    "fbeta_scorer = make_scorer(fbeta_score, beta=2, pos_label=-1)\n"
   ]
  },
  {
   "cell_type": "code",
   "execution_count": 68,
   "id": "c4db8dc7",
   "metadata": {},
   "outputs": [],
   "source": [
    "# normalizing the data\n",
    "X = (X - X.mean(axis=1, keepdims=True)) / X.std(axis=1, keepdims=True)\n",
    "X_train, X_test, y_train, y_test = train_test_split(\n",
    "    X, y, test_size=0.2, random_state=seed\n",
    ")"
   ]
  },
  {
   "cell_type": "markdown",
   "id": "2305244b",
   "metadata": {},
   "source": [
    "# Support Vector Machines\n",
    "\n",
    "Classifiers, that use the hinge loss and use the L2 regularizer\n",
    "\n",
    "In the dual mode, they can be used in conjunction with kernal methods, which is what is employed in the following notebook.\n"
   ]
  },
  {
   "cell_type": "markdown",
   "id": "cc60d4d3",
   "metadata": {},
   "source": [
    "## 1. SVC with Polynomial Kernel"
   ]
  },
  {
   "cell_type": "markdown",
   "id": "0642267d",
   "metadata": {},
   "source": [
    "### Description\n",
    "The idea here is to map the data into a higher dimensional space, such that data is linearly seperable in that space and we can then perform linear classification\n"
   ]
  },
  {
   "cell_type": "markdown",
   "id": "7abd6a36",
   "metadata": {},
   "source": [
    "### Nested CV\n",
    "We run a nested cross validation function for the following hyperparameters of the Polynomial Kernal:\n",
    "- p - degree of polynomial\n",
    "- lambda (C) - regularization coefficient"
   ]
  },
  {
   "cell_type": "code",
   "execution_count": 69,
   "id": "c8ba11c4",
   "metadata": {},
   "outputs": [
    {
     "name": "stdout",
     "output_type": "stream",
     "text": [
      ">>>>RESULTS<<<<\n",
      "Mean f2 score (of negative class) over 5 by 5 rounds of Nested CV  0.9763471378548477\n",
      "Best parameters  {'C': 0.001, 'degree': 4}\n"
     ]
    }
   ],
   "source": [
    "param_grid_poly = {\n",
    "    'C' : [.001,.01,.1,1,10,100],\n",
    "    'degree' : [2,3,4,5,6]\n",
    "}\n",
    "\n",
    "results_poly = nested_cv(poly_SVC(), X, y, param_grid_poly, scoring=fbeta_scorer, random_state=seed)\n",
    "print(\">>>>RESULTS<<<<\")\n",
    "print(\"Mean f2 score (of negative class) over 5 by 5 rounds of Nested CV \", results_poly[\"mean_score\"])\n",
    "print(\"Best parameters \", results_poly[\"star_params\"])"
   ]
  },
  {
   "cell_type": "code",
   "execution_count": 70,
   "id": "53e0c524",
   "metadata": {},
   "outputs": [
    {
     "name": "stdout",
     "output_type": "stream",
     "text": [
      "{'mean_score': 0.9763471378548477, 'star_params': {'C': 0.001, 'degree': 4}, 'outer_scores': [1.0, 0.9595959595959596, 0.970873786407767, 0.9803921568627451, 0.970873786407767], 'std_score': 0.013537630454547036, 'best_params': [{'C': 0.001, 'degree': 6}, {'C': 0.001, 'degree': 5}, {'C': 0.001, 'degree': 6}, {'C': 0.001, 'degree': 3}, {'C': 0.001, 'degree': 4}]}\n"
     ]
    }
   ],
   "source": [
    "print(results_poly)"
   ]
  },
  {
   "cell_type": "code",
   "execution_count": 71,
   "id": "ce7f4c2c",
   "metadata": {},
   "outputs": [
    {
     "name": "stdout",
     "output_type": "stream",
     "text": [
      "[-1] [1]\n"
     ]
    }
   ],
   "source": [
    "clf_poly = poly_SVC(C=.001, degree=6)\n",
    "clf_poly.fit(np.delete(X, [35, 162], axis=0), np.delete(y, [35,162], axis=0))\n",
    "\n",
    "odd_laser_faulty = clf_poly.predict([X[35]])\n",
    "odd_laser_non_faulty = clf_poly.predict([X[162]])\n",
    "print(odd_laser_faulty, odd_laser_non_faulty)"
   ]
  },
  {
   "cell_type": "code",
   "execution_count": 72,
   "id": "708546a2",
   "metadata": {},
   "outputs": [
    {
     "name": "stdout",
     "output_type": "stream",
     "text": [
      "1.0\n",
      "              precision    recall  f1-score   support\n",
      "\n",
      "          -1       1.00      1.00      1.00       100\n",
      "           1       1.00      1.00      1.00       100\n",
      "\n",
      "    accuracy                           1.00       200\n",
      "   macro avg       1.00      1.00      1.00       200\n",
      "weighted avg       1.00      1.00      1.00       200\n",
      "\n"
     ]
    }
   ],
   "source": [
    "y_preds_poly = clf_poly.predict(X)\n",
    "print(fbeta_score(y, y_preds_poly, beta=2, pos_label=-1))\n",
    "print(classification_report(y, y_preds_poly))"
   ]
  },
  {
   "cell_type": "markdown",
   "id": "524d259c",
   "metadata": {},
   "source": [
    "## 2. SVC with RBF"
   ]
  },
  {
   "cell_type": "markdown",
   "id": "b664c74b",
   "metadata": {},
   "source": [
    "### Nested CV\n",
    "We run a nested cross validation function for the following hyperparameters of the Polynomial Kernal:\n",
    "- gamma - scaling of the RBF function\n",
    "- lambda - regularization coefficient\n"
   ]
  },
  {
   "cell_type": "code",
   "execution_count": 73,
   "id": "4d48f80a",
   "metadata": {},
   "outputs": [
    {
     "name": "stdout",
     "output_type": "stream",
     "text": [
      ">>>>RESULTS<<<<\n",
      "Mean f2 score (of negative class) over 5 by 5 rounds of Nested CV  0.9643790627799766\n",
      "Best parameters  {'C': 1, 'gamma': 0.1}\n"
     ]
    }
   ],
   "source": [
    "param_grid_rbf = {\n",
    "    'C' : [.001,.01,.1,1,10,100],\n",
    "    'gamma' : [.001,.01, .1 , 1,10,100],\n",
    "}\n",
    "results_rbf = nested_cv(rbf_SVC(), X, y, param_grid=param_grid_rbf, scoring=fbeta_scorer, random_state=seed)\n",
    "\n",
    "print(\">>>>RESULTS<<<<\")\n",
    "print(\"Mean f2 score (of negative class) over 5 by 5 rounds of Nested CV \", results_rbf[\"mean_score\"])\n",
    "print(\"Best parameters \", results_rbf[\"star_params\"])"
   ]
  },
  {
   "cell_type": "code",
   "execution_count": 74,
   "id": "e04602fa",
   "metadata": {},
   "outputs": [
    {
     "name": "stdout",
     "output_type": "stream",
     "text": [
      "{'mean_score': 0.9643790627799766, 'star_params': {'C': 1, 'gamma': 0.1}, 'outer_scores': [1.0, 0.9090909090909091, 0.9615384615384616, 0.9803921568627451, 0.970873786407767], 'std_score': 0.030437807868823507, 'best_params': [{'C': 10, 'gamma': 0.1}, {'C': 0.001, 'gamma': 10}, {'C': 1, 'gamma': 0.1}, {'C': 1, 'gamma': 0.01}, {'C': 10, 'gamma': 0.1}]}\n"
     ]
    }
   ],
   "source": [
    "print(results_rbf)"
   ]
  },
  {
   "cell_type": "code",
   "execution_count": 75,
   "id": "0427f052",
   "metadata": {},
   "outputs": [
    {
     "name": "stdout",
     "output_type": "stream",
     "text": [
      "[1] [1]\n"
     ]
    }
   ],
   "source": [
    "clf_rbf = rbf_SVC(C=.001, gamma=10)\n",
    "clf_rbf.fit(np.delete(X, [35, 162], axis=0), np.delete(y, [35,162], axis=0))\n",
    "\n",
    "odd_laser_faulty = clf_rbf.predict([X[35]])\n",
    "odd_laser_non_faulty = clf_rbf.predict([X[162]])\n",
    "print(odd_laser_faulty, odd_laser_non_faulty)"
   ]
  },
  {
   "cell_type": "code",
   "execution_count": 76,
   "id": "9fecd5ea",
   "metadata": {},
   "outputs": [
    {
     "name": "stdout",
     "output_type": "stream",
     "text": [
      "              precision    recall  f1-score   support\n",
      "\n",
      "          -1       1.00      0.99      0.99       100\n",
      "           1       0.99      1.00      1.00       100\n",
      "\n",
      "    accuracy                           0.99       200\n",
      "   macro avg       1.00      0.99      0.99       200\n",
      "weighted avg       1.00      0.99      0.99       200\n",
      "\n"
     ]
    }
   ],
   "source": [
    "y_preds_rbf = clf_rbf.predict(X)\n",
    "print(classification_report(y,y_preds_rbf))"
   ]
  },
  {
   "cell_type": "markdown",
   "id": "13cd6b0d",
   "metadata": {},
   "source": [
    "## 3. SVC with DTW"
   ]
  },
  {
   "cell_type": "markdown",
   "id": "18a71793",
   "metadata": {},
   "source": [
    "### Nested CV\n",
    "We run a nested cross validation function for the following hyperparameters of the Polynomial Kernal:\n",
    "- gamma - smoothing of the DTW function\n",
    "- (maybe) k - distance (Euclidean, manhattan, )\n",
    "- lambda - regularization coefficient"
   ]
  },
  {
   "cell_type": "code",
   "execution_count": 77,
   "id": "e991228a",
   "metadata": {},
   "outputs": [
    {
     "name": "stdout",
     "output_type": "stream",
     "text": [
      ">>>>RESULTS<<<<\n",
      "Mean f2 score (of negative class) over 5 by 5 rounds of Nested CV  0.998019801980198\n",
      "Best parameters  {'C': 1, 'gamma': 0.1}\n"
     ]
    }
   ],
   "source": [
    "param_grid_dtw = {\n",
    "    'C': [.001, .01, .1, 1, 10, 100],\n",
    "    'gamma':[.001, .01, .1, 1]\n",
    "}\n",
    "\n",
    "results_dtw = nested_cv(dtw_SVC(), X, y, param_grid_dtw, scoring=fbeta_scorer, random_state=seed)\n",
    "\n",
    "print(\">>>>RESULTS<<<<\")\n",
    "print(\"Mean f2 score (of negative class) over 5 by 5 rounds of Nested CV \", results_dtw[\"mean_score\"])\n",
    "print(\"Best parameters \", results_dtw[\"star_params\"])"
   ]
  },
  {
   "cell_type": "code",
   "execution_count": 78,
   "id": "1cc54770",
   "metadata": {},
   "outputs": [
    {
     "name": "stdout",
     "output_type": "stream",
     "text": [
      "[-1] [-1]\n",
      "              precision    recall  f1-score   support\n",
      "\n",
      "          -1       0.99      1.00      1.00       100\n",
      "           1       1.00      0.99      0.99       100\n",
      "\n",
      "    accuracy                           0.99       200\n",
      "   macro avg       1.00      0.99      0.99       200\n",
      "weighted avg       1.00      0.99      0.99       200\n",
      "\n"
     ]
    }
   ],
   "source": [
    "clf_dtw = dtw_SVC(C=1, gamma=.1)\n",
    "clf_dtw.fit(np.delete(X, [35, 162], axis=0), np.delete(y, [35,162], axis=0))\n",
    "\n",
    "odd_laser_faulty = clf_dtw.predict([X[35]])\n",
    "odd_laser_non_faulty = clf_dtw.predict([X[162]])\n",
    "print(odd_laser_faulty, odd_laser_non_faulty)\n",
    "\n",
    "print(classification_report(y, clf_dtw.predict(X)))"
   ]
  }
 ],
 "metadata": {
  "kernelspec": {
   "display_name": "Python 3",
   "language": "python",
   "name": "python3"
  },
  "language_info": {
   "codemirror_mode": {
    "name": "ipython",
    "version": 3
   },
   "file_extension": ".py",
   "mimetype": "text/x-python",
   "name": "python",
   "nbconvert_exporter": "python",
   "pygments_lexer": "ipython3",
   "version": "3.11.1"
  }
 },
 "nbformat": 4,
 "nbformat_minor": 5
}
